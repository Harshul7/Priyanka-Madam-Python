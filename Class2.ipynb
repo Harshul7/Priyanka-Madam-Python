{
 "cells": [
  {
   "cell_type": "markdown",
   "id": "64478faa",
   "metadata": {},
   "source": [
    "'''Data Structures''' \n"
   ]
  },
  {
   "cell_type": "code",
   "execution_count": null,
   "id": "0fdaf1c7",
   "metadata": {},
   "outputs": [
    {
     "data": {
      "text/plain": [
       "'List -> Array\\nDictionary -> Hash Map\\nTuple -> Non-editable array\\nSet -> // to set from set theory'"
      ]
     },
     "execution_count": 3,
     "metadata": {},
     "output_type": "execute_result"
    }
   ],
   "source": [
    "'''Data Structures-\n",
    "Ordered-List,Tuple\n",
    "Unordered-Dictionary,Set\n",
    "\n",
    "'''\n",
    "\n",
    "''' List-Ordered Mutable Non-unique\n",
    "    Tuple-Ordered Immutable/Non-editable Non-unique\n",
    "    Dictionary-Unordered Mutable/Editable UniqueKey, Non-unique values\n",
    "    Set-Unordered Mutable UniqueValue'''\n",
    "\n",
    "'''List -> Array\n",
    "Dictionary -> Hash Map\n",
    "Tuple -> Non-editable array\n",
    "Set -> // to set from set theory'''"
   ]
  },
  {
   "cell_type": "code",
   "execution_count": null,
   "id": "e184f32e",
   "metadata": {},
   "outputs": [],
   "source": [
    "''' List []\n",
    "    Tuple ()\n",
    "    Dictionary {A:B}\n",
    "    Set {}'''"
   ]
  },
  {
   "cell_type": "code",
   "execution_count": 4,
   "id": "3f8709ea",
   "metadata": {},
   "outputs": [
    {
     "name": "stdout",
     "output_type": "stream",
     "text": [
      "['False', 'None', 'True', 'and', 'as', 'assert', 'async', 'await', 'break', 'class', 'continue', 'def', 'del', 'elif', 'else', 'except', 'finally', 'for', 'from', 'global', 'if', 'import', 'in', 'is', 'lambda', 'nonlocal', 'not', 'or', 'pass', 'raise', 'return', 'try', 'while', 'with', 'yield']\n"
     ]
    }
   ],
   "source": [
    "#list ->reserved word\n",
    "\n",
    "import keyword\n",
    "print(keyword.kwlist)\n"
   ]
  },
  {
   "cell_type": "code",
   "execution_count": 10,
   "id": "738312c6",
   "metadata": {},
   "outputs": [
    {
     "name": "stdout",
     "output_type": "stream",
     "text": [
      "[1, 2, 3, 3]\n",
      "<class 'list'>\n",
      "{1, 2, 3}\n",
      "<class 'set'>\n",
      "(1, 2, 3, 3)\n",
      "<class 'tuple'>\n",
      "{'A': 1, 'B': 2, 'C': 3}\n",
      "<class 'dict'>\n"
     ]
    }
   ],
   "source": [
    "list1 = [1,2,3,3]\n",
    "print(list1)\n",
    "print(type(list1))\n",
    "\n",
    "set1 = {1,2,3,3}\n",
    "print(set1)\n",
    "print(type(set1))\n",
    "\n",
    "tuple1 = (1,2,3,3)\n",
    "print(tuple1)\n",
    "print(type(tuple1))\n",
    "\n",
    "dictionary = {\"A\":1,\"B\":2,\"C\":3}\n",
    "print(dictionary)\n",
    "print(type(dictionary))\n",
    "# We can store any type of data in a list,tuple,set,dictiionary (heterogeneous data types)"
   ]
  },
  {
   "cell_type": "code",
   "execution_count": 17,
   "id": "a2bdab69",
   "metadata": {},
   "outputs": [
    {
     "name": "stdout",
     "output_type": "stream",
     "text": [
      "{1, 2, 4}\n",
      "{1, 2, 3, 4}\n",
      "{1, 2, 4}\n"
     ]
    }
   ],
   "source": [
    "set1.add(4)\n",
    "print(set1)\n",
    "\n",
    "set1.add(3)\n",
    "print(set1)\n",
    "\n",
    "set1.add(3)\n",
    "#to remove an element from set1\n",
    "set1.remove(3)\n",
    "print(set1)"
   ]
  }
 ],
 "metadata": {
  "kernelspec": {
   "display_name": "Python 3",
   "language": "python",
   "name": "python3"
  },
  "language_info": {
   "codemirror_mode": {
    "name": "ipython",
    "version": 3
   },
   "file_extension": ".py",
   "mimetype": "text/x-python",
   "name": "python",
   "nbconvert_exporter": "python",
   "pygments_lexer": "ipython3",
   "version": "3.11.2"
  }
 },
 "nbformat": 4,
 "nbformat_minor": 5
}
