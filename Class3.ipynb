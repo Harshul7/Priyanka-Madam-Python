{
 "cells": [
  {
   "cell_type": "markdown",
   "id": "0376dab6",
   "metadata": {},
   "source": [
    "List"
   ]
  },
  {
   "cell_type": "code",
   "execution_count": 33,
   "id": "e066d9ce",
   "metadata": {},
   "outputs": [
    {
     "name": "stdout",
     "output_type": "stream",
     "text": [
      "a\n",
      "a\n",
      "1\n",
      "24.33\n",
      "Apple\n",
      "a 1 24.33 Apple "
     ]
    }
   ],
   "source": [
    "list1 = ['a',1,24.33,\"Apple\"]\n",
    "\n",
    "print(list1[0])\n",
    "\n",
    "for l in list1:\n",
    "    print(l)\n",
    "''' indices in for loop can be named 0,1,2,3 or -4,-3,-2,-1 when len(list1)=4'''\n",
    "for i in range(len(list1)):\n",
    "    print(list1[i],end=\" \")\n",
    "\n",
    "\n"
   ]
  },
  {
   "cell_type": "code",
   "execution_count": 34,
   "id": "3dbfcc53",
   "metadata": {},
   "outputs": [
    {
     "name": "stdout",
     "output_type": "stream",
     "text": [
      "a/1/24.33\n",
      "24.33,"
     ]
    }
   ],
   "source": [
    "print(list1[-4],list1[-3],list1[-2],sep=\"/\")#sep is separator\n",
    "print(list1[-2],end=\",\")"
   ]
  },
  {
   "cell_type": "markdown",
   "id": "d9ce256a",
   "metadata": {},
   "source": [
    "Slicing of a List"
   ]
  },
  {
   "cell_type": "code",
   "execution_count": 35,
   "id": "e09a5e0a",
   "metadata": {},
   "outputs": [
    {
     "name": "stdout",
     "output_type": "stream",
     "text": [
      "['a', 1, 24.33]\n",
      "['a', 1, 24.33]\n",
      "[1, 24.33, 'Apple']\n",
      "[1, 24.33, 'Apple']\n",
      "\n",
      "[1, 24.33]\n",
      "[1, 24.33]\n",
      "['a', 1, 24.33]\n",
      "[1, 24.33, 'Apple']\n"
     ]
    }
   ],
   "source": [
    "print(list1[:3])#is same as \n",
    "print(list1[0:3])\n",
    "\n",
    "print(list1[1:len(list1)])# is same as\n",
    "print(list1[1:])\n",
    "print()\n",
    "print(list1[-3:-1])\n",
    "print(list1[-3:3])\n",
    "\n",
    "print(list1[-4:-1])\n",
    "print(list1[-3:])"
   ]
  },
  {
   "cell_type": "markdown",
   "id": "cd98c383",
   "metadata": {},
   "source": [
    "Addition and Deletion of Elements from a List"
   ]
  },
  {
   "cell_type": "code",
   "execution_count": 36,
   "id": "a3fcf81e",
   "metadata": {},
   "outputs": [
    {
     "name": "stdout",
     "output_type": "stream",
     "text": [
      "['a', 1, 24.33, 'Apple', 'b', ['a', 'b', 'c', 'd']]\n",
      "b\n"
     ]
    }
   ],
   "source": [
    "list1.append('b')\n",
    "#to insert at the end of a list\n",
    "list1.append(['a','b','c','d'])\n",
    "\n",
    "print(list1)\n",
    "\n",
    "print(list1[5][-3])"
   ]
  },
  {
   "cell_type": "code",
   "execution_count": null,
   "id": "6286b48f",
   "metadata": {},
   "outputs": [
    {
     "name": "stdout",
     "output_type": "stream",
     "text": [
      "['a', 2.411, 1, 24.33, 'Apple', 'b', ['a', 'b', 'c', 'd']]\n",
      "['a', 1, 24.33, 'Apple', 'b']\n"
     ]
    }
   ],
   "source": [
    "list1.insert(1,2.411)# 1 is the index at which 2.411 is to be inserted\n",
    "#element at index1 shifts to index2 ,element at index2 shifts to index3,so on ...\n",
    "print(list1)\n",
    "\n",
    "list1.remove(2.411)\n",
    "#remove(val)- val to be removed\n",
    "#remove(val)- removes the first occurence of val\n",
    "#pop(index)- index of val to be removed\n",
    "#By default removes the last element\n",
    "list1.pop()\n",
    "\n",
    "print(list1)"
   ]
  },
  {
   "cell_type": "markdown",
   "id": "86daeb56",
   "metadata": {},
   "source": [
    "Tuple"
   ]
  },
  {
   "cell_type": "code",
   "execution_count": null,
   "id": "0c7848a8",
   "metadata": {},
   "outputs": [
    {
     "name": "stdout",
     "output_type": "stream",
     "text": [
      "d\n",
      "(1, 2, 3)\n"
     ]
    }
   ],
   "source": [
    "tuple1 =(1,2,3,4,'a','b','c','d')\n",
    "\n",
    "print(tuple1[len(tuple1)-1])\n",
    "print(tuple1[-8:-5])#indices -8 to -6 i.e., (1,2,3)\n"
   ]
  }
 ],
 "metadata": {
  "kernelspec": {
   "display_name": "Python 3",
   "language": "python",
   "name": "python3"
  },
  "language_info": {
   "codemirror_mode": {
    "name": "ipython",
    "version": 3
   },
   "file_extension": ".py",
   "mimetype": "text/x-python",
   "name": "python",
   "nbconvert_exporter": "python",
   "pygments_lexer": "ipython3",
   "version": "3.11.2"
  }
 },
 "nbformat": 4,
 "nbformat_minor": 5
}
