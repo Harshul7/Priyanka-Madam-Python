{
 "cells": [
  {
   "cell_type": "markdown",
   "id": "c77379e8",
   "metadata": {},
   "source": [
    "# Dictionary \n"
   ]
  },
  {
   "cell_type": "code",
   "execution_count": null,
   "id": "78f836e7",
   "metadata": {},
   "outputs": [
    {
     "name": "stdout",
     "output_type": "stream",
     "text": [
      "{'A': 1, 'B': 'b', 'C': 'cat', 'D': 24.33}\n",
      "1\n",
      "1\n"
     ]
    }
   ],
   "source": [
    "dictionary = {'A':1,'B':'b','C':\"cat\",'D':24.33}\n",
    "# keys can be of data types not of data structures in a python dictionary\n",
    "print(dictionary)\n",
    "\n",
    "print(dictionary.get('A'))\n",
    "# or \n",
    "print(dictionary['A'])\n",
    "\n"
   ]
  },
  {
   "cell_type": "code",
   "execution_count": null,
   "id": "25603a3f",
   "metadata": {},
   "outputs": [
    {
     "name": "stdout",
     "output_type": "stream",
     "text": [
      "None\n",
      "{'A': 2, 'B': 'b', 'C': 'cat', 'D': 24.33, 'E': 'elephant'}\n"
     ]
    }
   ],
   "source": [
    "print(dictionary.update({'A':2,'E':'elephant'}))\n",
    "# None is returned by update to print\n",
    "print(dictionary)"
   ]
  },
  {
   "cell_type": "code",
   "execution_count": 9,
   "id": "cbbc3f53",
   "metadata": {},
   "outputs": [
    {
     "name": "stdout",
     "output_type": "stream",
     "text": [
      "{'A': 1, 'B': 'b', 'C': 'cat', 'D': 24.33, 'E': 'elephant'}\n"
     ]
    }
   ],
   "source": [
    "dictionary['A']=1 \n",
    "\n",
    "print(dictionary)"
   ]
  },
  {
   "cell_type": "code",
   "execution_count": 17,
   "id": "c1262fde",
   "metadata": {},
   "outputs": [
    {
     "name": "stdout",
     "output_type": "stream",
     "text": [
      "A 1, B b, C cat, D 24.33, E elephant \n",
      "\n",
      "dict_keys(['A', 'B', 'C', 'D', 'E'])\n"
     ]
    }
   ],
   "source": [
    "for key in dictionary.keys():\n",
    "    if(key!='E'):\n",
    "        print(key,dictionary[key],end=\", \")\n",
    "    else:\n",
    "        print(key,dictionary[key],end=\" \")\n",
    "print(\"\\n\")\n",
    "print(dictionary.keys(),end=\"\\n\")"
   ]
  },
  {
   "cell_type": "code",
   "execution_count": null,
   "id": "507d5a49",
   "metadata": {},
   "outputs": [
    {
     "name": "stdout",
     "output_type": "stream",
     "text": [
      "dict_values([1, 'b', 'cat', 24.33, 'elephant'])\n"
     ]
    }
   ],
   "source": [
    "print(dictionary.values())\n"
   ]
  },
  {
   "cell_type": "markdown",
   "id": "5a98f821",
   "metadata": {},
   "source": [
    "# Convert a List to a Dictionary"
   ]
  },
  {
   "cell_type": "code",
   "execution_count": 19,
   "id": "2561f55c",
   "metadata": {},
   "outputs": [
    {
     "name": "stdout",
     "output_type": "stream",
     "text": [
      "{'A': 4, 'B': 1, 'C': 1, 'D': 1, 'E': 3}\n"
     ]
    }
   ],
   "source": [
    "list1=['A','B','C','D','E','A','A','A','E','E']\n",
    "# convert list1 to dictionary \n",
    "dictionary1 = {}\n",
    "for key in list1:\n",
    "    if key in dictionary1.keys():\n",
    "        dictionary1[key]+=1\n",
    "    else:\n",
    "        dictionary1[key]=1\n",
    "print(dictionary1)"
   ]
  },
  {
   "cell_type": "code",
   "execution_count": 20,
   "id": "bd7623dc",
   "metadata": {},
   "outputs": [
    {
     "name": "stdout",
     "output_type": "stream",
     "text": [
      "7\n"
     ]
    }
   ],
   "source": [
    "# To print max of two numbers \n",
    "a = int(input())\n",
    "b=int(input())\n",
    "\n",
    "if(a>b):\n",
    "    print(a)\n",
    "else:\n",
    "    print(b)\n",
    "    \n",
    "        \n",
    "\n"
   ]
  },
  {
   "cell_type": "markdown",
   "id": "91c760ac",
   "metadata": {},
   "source": [
    "### Homework 1st June,2025.\n",
    "- Prime Number\n",
    "- Palindrome "
   ]
  },
  {
   "cell_type": "code",
   "execution_count": 5,
   "id": "9526865e",
   "metadata": {},
   "outputs": [
    {
     "name": "stdout",
     "output_type": "stream",
     "text": [
      "1234 is not a palindrome\n"
     ]
    }
   ],
   "source": [
    "# Palindrome number \n",
    "#class Solution:\n",
    "x=int(input())\n",
    "'''def isPalindrome(self,x: int) ->bool:'''\n",
    "if(x<0):\n",
    "    print(x,\"is not a palindrome number\")\n",
    "else:\n",
    "    x=str(x)\n",
    "    if x==x[::-1]:\n",
    "        print(x ,\"is a palindrome\" )\n",
    "    else:\n",
    "        print(x,\"is not a palindrome\")\n",
    "\n"
   ]
  },
  {
   "cell_type": "code",
   "execution_count": 1,
   "id": "37628bc1",
   "metadata": {},
   "outputs": [
    {
     "name": "stdout",
     "output_type": "stream",
     "text": [
      "121 is a palindrome number.\n"
     ]
    }
   ],
   "source": [
    "#2nd Variation of Palindrome Number\n",
    "x=int(input())\n",
    "if(x<0):\n",
    "    print(x,\"is not a palindrome number.\")\n",
    "y=x\n",
    "digits =[]\n",
    "while(x != 0):\n",
    "    digits.append(x%10)\n",
    "    x=x//10 # // to return an integer on dividing x by 10\n",
    "\n",
    "for i in range(len(digits)//2):\n",
    "    if(digits[i]!=digits[len(digits)-i-1]):\n",
    "        print(y,\"is not a palindrome\")\n",
    "        exit(0)\n",
    "\n",
    "print(y,\"is a palindrome number.\")\n",
    "    \n",
    "    \n",
    "\n"
   ]
  },
  {
   "cell_type": "code",
   "execution_count": null,
   "id": "49cfe6ae",
   "metadata": {},
   "outputs": [
    {
     "name": "stdout",
     "output_type": "stream",
     "text": [
      "1023 is composite.\n"
     ]
    }
   ],
   "source": [
    "# Prime number\n",
    "x=int(input())\n",
    "if(x<=1):\n",
    "    print(x,\"is neither prime nor composite.\")\n",
    "count=0\n",
    "for i in range(2,int(x**0.5)+1):#Check integers in the range of (1 to sqrt(x))\n",
    "    if(x%i==0):\n",
    "        count+=1 \n",
    "        break\n",
    "if(count==0):\n",
    "    print(x,\"is prime.\")\n",
    "else:\n",
    "    print(x,\"is composite.\")\n",
    "\n",
    "\n"
   ]
  },
  {
   "cell_type": "markdown",
   "id": "6b9797c2",
   "metadata": {},
   "source": [
    "### HW 2nd June,2025.\n",
    "\n",
    "- Reverse an integer without using any function or list.\n",
    "- Hint:Store in another integer directly.Last digit of x is the first digit of y. "
   ]
  },
  {
   "cell_type": "code",
   "execution_count": 1,
   "id": "e3f836fb",
   "metadata": {},
   "outputs": [
    {
     "name": "stdout",
     "output_type": "stream",
     "text": [
      "Reverse of x = 431\n"
     ]
    }
   ],
   "source": [
    "# Reverse an integer\n",
    "x=int(input())\n",
    "\n",
    "y= 0\n",
    "\n",
    "while x!=0 :\n",
    "    digit = x%10\n",
    "    y=y*10 + digit\n",
    "    x//=10\n",
    "\n",
    "print(\"Reverse of x =\",y)"
   ]
  }
 ],
 "metadata": {
  "kernelspec": {
   "display_name": "Python 3",
   "language": "python",
   "name": "python3"
  },
  "language_info": {
   "codemirror_mode": {
    "name": "ipython",
    "version": 3
   },
   "file_extension": ".py",
   "mimetype": "text/x-python",
   "name": "python",
   "nbconvert_exporter": "python",
   "pygments_lexer": "ipython3",
   "version": "3.11.2"
  }
 },
 "nbformat": 4,
 "nbformat_minor": 5
}
