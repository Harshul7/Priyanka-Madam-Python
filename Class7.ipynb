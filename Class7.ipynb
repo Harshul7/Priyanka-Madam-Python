{
 "cells": [
  {
   "cell_type": "markdown",
   "id": "393890a1",
   "metadata": {},
   "source": [
    "## Patterns\n"
   ]
  },
  {
   "cell_type": "code",
   "execution_count": null,
   "id": "750776e9",
   "metadata": {},
   "outputs": [
    {
     "name": "stdout",
     "output_type": "stream",
     "text": [
      "A \n",
      "A A \n",
      "A A A \n",
      "A A A A \n"
     ]
    }
   ],
   "source": [
    "'''A\n",
    "   A A\n",
    "   A A A\n",
    "   A A A A'''\n",
    "\n",
    "num = int(input(\"Enter value of num\"))\n",
    "for row in range(num): # row starts from 0 and goes on till num-1\n",
    "    for column in range(row+1):\n",
    "        print(\"A\",end=\" \")\n",
    "    print(end='\\n')\n"
   ]
  },
  {
   "cell_type": "code",
   "execution_count": 10,
   "id": "4cfbcbca",
   "metadata": {},
   "outputs": [
    {
     "name": "stdout",
     "output_type": "stream",
     "text": [
      "      * \n",
      "    * * \n",
      "  * * * \n",
      "* * * * \n"
     ]
    }
   ],
   "source": [
    "'''*\n",
    "  **\n",
    " ***\n",
    "****\n",
    "'''\n",
    "\n",
    "num=int(input(\"Enter value of num\"))\n",
    "for row in range(num):\n",
    "    for column in range(num):\n",
    "        if(column < num-row-1):\n",
    "            print(\" \",end=\" \")\n",
    "        else:\n",
    "            print(\"*\",end=\" \")\n",
    "    print(end='\\n')\n",
    "\n"
   ]
  },
  {
   "cell_type": "code",
   "execution_count": 11,
   "id": "28f792a1",
   "metadata": {},
   "outputs": [
    {
     "name": "stdout",
     "output_type": "stream",
     "text": [
      "* * * * \n",
      "* * * \n",
      "* * \n",
      "* \n"
     ]
    }
   ],
   "source": [
    "'''* * * *\n",
    "   * * *\n",
    "   * *\n",
    "   *\n",
    "   '''\n",
    "num=int(input(\"Enter value of num : \"))\n",
    "for row in range(num):\n",
    "    for column in range(num-row):\n",
    "        print(\"*\",end=\" \")\n",
    "    print(end='\\n')\n",
    "\n",
    "    "
   ]
  },
  {
   "cell_type": "code",
   "execution_count": 13,
   "id": "15b96bfd",
   "metadata": {},
   "outputs": [
    {
     "name": "stdout",
     "output_type": "stream",
     "text": [
      "* \n",
      "* * \n",
      "* * * \n",
      "* * * * \n",
      "* * * \n",
      "* * \n",
      "* \n"
     ]
    }
   ],
   "source": [
    "'''\n",
    "*\n",
    "* *\n",
    "* * *\n",
    "* * * *\n",
    "* * *\n",
    "* *\n",
    "*\n",
    "'''\n",
    "\n",
    "num=int(input(\"Enter value of num:\"))\n",
    "for row in range(num):\n",
    "    for column in range(row+1):\n",
    "        print(\"*\",end= \" \")\n",
    "    print(end='\\n')\n",
    "for row in range(1,num):\n",
    "    for column in range(num-row):\n",
    "        print(\"*\",end=\" \")\n",
    "    print(end=\"\\n\")\n",
    "    "
   ]
  },
  {
   "cell_type": "code",
   "execution_count": 18,
   "id": "f3d7c6a7",
   "metadata": {},
   "outputs": [
    {
     "name": "stdout",
     "output_type": "stream",
     "text": [
      "* * * * \n",
      "  * * * \n",
      "    * * \n",
      "      * \n",
      "    * * \n",
      "  * * * \n",
      "* * * * \n"
     ]
    }
   ],
   "source": [
    "'''\n",
    "* * * * *\n",
    "  * * *\n",
    "    *\n",
    "  * * *\n",
    "* * * * * \n",
    "Hour-Glass Pattern\n",
    "'''\n",
    "\n",
    "'''\n",
    "* * *\n",
    "  * *\n",
    "    *\n",
    "  * *\n",
    "* * *\n",
    "'''\n",
    "num=int(input(\"Enter value of num:\"))\n",
    "\n",
    "for row in range(num):\n",
    "    for column in range(num):\n",
    "        if(column>=row):\n",
    "            print(\"*\",end=\" \")\n",
    "        else:\n",
    "            print(\" \",end=\" \")\n",
    "    print(end='\\n')\n",
    "for row in range(1,num):\n",
    "    for column in range(num):\n",
    "        if(column < num-row-1):\n",
    "            print(\" \",end=\" \")\n",
    "        else:\n",
    "            print(\"*\",end=\" \")\n",
    "    print(end='\\n')\n",
    "\n",
    "\n"
   ]
  },
  {
   "cell_type": "markdown",
   "id": "cf6552f4",
   "metadata": {},
   "source": [
    "#### HW June 5th,2025.\n",
    "- Print Hour-Glass Pattern"
   ]
  },
  {
   "cell_type": "code",
   "execution_count": 28,
   "id": "0c78a816",
   "metadata": {},
   "outputs": [
    {
     "name": "stdout",
     "output_type": "stream",
     "text": [
      "* * * * * * * * * \n",
      "  * * * * * * * \n",
      "    * * * * * \n",
      "      * * * \n",
      "        * \n",
      "      * * * \n",
      "    * * * * * \n",
      "  * * * * * * * \n",
      "* * * * * * * * * \n"
     ]
    }
   ],
   "source": [
    "# Hour Glass Pattern\n",
    "num=int(input(\"Enter value of num:\"))\n",
    "\n",
    "for row in range(num):\n",
    "    for column in range(num):\n",
    "        if(column>=row):\n",
    "            print(\"*\",end=\" \")\n",
    "        else:\n",
    "            print(\" \",end=\" \")\n",
    "    for column in range(num-row,1,-1):\n",
    "        print(\"*\",end= \" \")\n",
    "    print(end='\\n')\n",
    "for row in range(1,num):\n",
    "    for column in range(num):\n",
    "        if(column < num-row-1):\n",
    "            print(\" \",end=\" \")\n",
    "        else:\n",
    "            print(\"*\",end=\" \")\n",
    "    for column in range(row):\n",
    "        print(\"*\",end=\" \")\n",
    "    print(end='\\n')\n",
    "\n"
   ]
  }
 ],
 "metadata": {
  "kernelspec": {
   "display_name": "Python 3",
   "language": "python",
   "name": "python3"
  },
  "language_info": {
   "codemirror_mode": {
    "name": "ipython",
    "version": 3
   },
   "file_extension": ".py",
   "mimetype": "text/x-python",
   "name": "python",
   "nbconvert_exporter": "python",
   "pygments_lexer": "ipython3",
   "version": "3.11.2"
  }
 },
 "nbformat": 4,
 "nbformat_minor": 5
}
