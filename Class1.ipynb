{
 "cells": [
  {
   "cell_type": "code",
   "execution_count": 13,
   "id": "e499a089",
   "metadata": {},
   "outputs": [
    {
     "name": "stdout",
     "output_type": "stream",
     "text": [
      "hello world\n"
     ]
    }
   ],
   "source": [
    "print (\"hello world\")\n"
   ]
  },
  {
   "cell_type": "code",
   "execution_count": 14,
   "id": "7a154051",
   "metadata": {},
   "outputs": [
    {
     "name": "stdout",
     "output_type": "stream",
     "text": [
      "<class 'str'>\n",
      "2012\n",
      "string\n"
     ]
    }
   ],
   "source": [
    "#int stores values  in the range [-2^63,2^63-1]\n",
    "'''string data type - str\n",
    " float data type\n",
    " boolean data type\n",
    " No need to specify data type while initializing variable\n",
    "'''\n",
    "string=\"2012\" \n",
    "print(type(string))\n",
    "print(string)\n",
    "print(\"string\")\n",
    "\n",
    "\n"
   ]
  },
  {
   "cell_type": "code",
   "execution_count": 15,
   "id": "8811d178",
   "metadata": {},
   "outputs": [
    {
     "name": "stdout",
     "output_type": "stream",
     "text": [
      "10\n",
      "<class 'int'>\n"
     ]
    }
   ],
   "source": [
    "a=10\n",
    "print(a)\n",
    "'''Python does not require data types to be specified \n",
    "while initializing variable names.\n",
    "Less Code is required in \n",
    "python''' \n",
    "print(type(a))"
   ]
  },
  {
   "cell_type": "markdown",
   "id": "d38d512f",
   "metadata": {},
   "source": [
    "Boolean\n"
   ]
  },
  {
   "cell_type": "code",
   "execution_count": 16,
   "id": "1621cae4",
   "metadata": {},
   "outputs": [
    {
     "name": "stdout",
     "output_type": "stream",
     "text": [
      "<class 'bool'>\n",
      "True\n"
     ]
    }
   ],
   "source": [
    "b= True\n",
    "print(type(b))\n",
    "print(b)\n",
    "\n",
    "c=3.14"
   ]
  },
  {
   "cell_type": "markdown",
   "id": "a0b17914",
   "metadata": {},
   "source": [
    "Float\n"
   ]
  },
  {
   "cell_type": "code",
   "execution_count": 22,
   "id": "6b066421",
   "metadata": {},
   "outputs": [
    {
     "name": "stdout",
     "output_type": "stream",
     "text": [
      "a= 10 , b= True , c= 23.45\n"
     ]
    }
   ],
   "source": [
    "print(\"a=\",a,\", b=\",b ,\", c=\",c)\n",
    "\n"
   ]
  },
  {
   "cell_type": "code",
   "execution_count": 23,
   "id": "89988909",
   "metadata": {},
   "outputs": [
    {
     "name": "stdout",
     "output_type": "stream",
     "text": [
      "<class 'float'>\n"
     ]
    }
   ],
   "source": [
    "c=23.45\n",
    "print(type(c))"
   ]
  },
  {
   "cell_type": "code",
   "execution_count": 3,
   "id": "35415cff",
   "metadata": {},
   "outputs": [
    {
     "name": "stdout",
     "output_type": "stream",
     "text": [
      "8  is even number\n"
     ]
    }
   ],
   "source": [
    "a=int(input(\"Input\"))\n",
    "if(a%2==0):\n",
    "    print(a,\" is even number\")\n",
    "else:\n",
    "    print(a,\" is odd number\")\n",
    "\n",
    "          \n"
   ]
  }
 ],
 "metadata": {
  "kernelspec": {
   "display_name": "Python 3",
   "language": "python",
   "name": "python3"
  },
  "language_info": {
   "codemirror_mode": {
    "name": "ipython",
    "version": 3
   },
   "file_extension": ".py",
   "mimetype": "text/x-python",
   "name": "python",
   "nbconvert_exporter": "python",
   "pygments_lexer": "ipython3",
   "version": "3.11.2"
  }
 },
 "nbformat": 4,
 "nbformat_minor": 5
}
