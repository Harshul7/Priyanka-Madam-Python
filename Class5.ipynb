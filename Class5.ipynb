{
 "cells": [
  {
   "cell_type": "markdown",
   "id": "47202ff7",
   "metadata": {},
   "source": [
    "## Print the largest element of a list\n"
   ]
  },
  {
   "cell_type": "code",
   "execution_count": 2,
   "id": "f88cbd43",
   "metadata": {},
   "outputs": [
    {
     "name": "stdout",
     "output_type": "stream",
     "text": [
      "3.14\n"
     ]
    }
   ],
   "source": [
    "#Print the largest element of a list\n",
    "list1 = [2,3,0,1,3.14]\n",
    "max=list1[0]\n",
    "for i in list1:\n",
    "    if i>max:\n",
    "        max=i\n",
    "\n",
    "print(max)\n"
   ]
  },
  {
   "cell_type": "markdown",
   "id": "d680a9ba",
   "metadata": {},
   "source": [
    "## Number of digits in a number"
   ]
  },
  {
   "cell_type": "code",
   "execution_count": null,
   "id": "79bd8366",
   "metadata": {},
   "outputs": [
    {
     "name": "stdout",
     "output_type": "stream",
     "text": [
      "2\n"
     ]
    }
   ],
   "source": [
    "# Number of digits in a number\n",
    "\n",
    "x=int(input())\n",
    "y=x\n",
    "digit=0\n",
    "while x!=0:\n",
    "    digit+=1\n",
    "    x=x//10\n",
    "\n",
    "print(digit)\n",
    "\n",
    "# How to count the digits for a float input ?\n"
   ]
  },
  {
   "cell_type": "markdown",
   "id": "043238c5",
   "metadata": {},
   "source": [
    "## Armstrong number\n",
    "- Eg: 153=1^(n)+5^(n)+3^(n);\n",
    "n=Number of digits of 153 = 3 "
   ]
  },
  {
   "cell_type": "code",
   "execution_count": null,
   "id": "1ed1c427",
   "metadata": {},
   "outputs": [
    {
     "name": "stdout",
     "output_type": "stream",
     "text": [
      "3\n",
      "371 is an Armstrong number\n"
     ]
    }
   ],
   "source": [
    "# Armstrong Number\n",
    "'''First count the number of digits of the number'''\n",
    "# Number of digits in a number\n",
    "\n",
    "x=int(input())\n",
    "y=x\n",
    "digit=0\n",
    "while x!=0:\n",
    "    digit+=1\n",
    "    x=x//10\n",
    "\n",
    "print(digit)\n",
    "\n",
    "# Reset x to its initial vlaue\n",
    "x=y\n",
    "sum=0\n",
    "while x!=0:\n",
    "    sum+=int((x%10)**digit)\n",
    "    x//=10\n",
    "if(sum==y):\n",
    "    print(y,\"is an Armstrong number\")\n",
    "else:\n",
    "    print(y,\"is not an Armstrong number\")\n",
    "\n",
    "#371, 153 are Armstrong numbers\n"
   ]
  },
  {
   "cell_type": "markdown",
   "id": "ecb4e0c8",
   "metadata": {},
   "source": [
    "## Find LCM of two numbers\n"
   ]
  },
  {
   "cell_type": "code",
   "execution_count": 14,
   "id": "94608027",
   "metadata": {},
   "outputs": [
    {
     "name": "stdout",
     "output_type": "stream",
     "text": [
      "LCM of a= 2 and b= 4 is 4\n"
     ]
    }
   ],
   "source": [
    "#Loop running from the greater number to the product of both the numbers\n",
    "\n",
    "a=int(input(\"Enter value of a\"))\n",
    "b=int(input(\"Enter value of b\"))\n",
    "greater=a if a>b else b\n",
    "ans =0\n",
    "# \n",
    "#a=5,b=3 -> greater=5,a*b+1=5*3+1=16,step=greater=5 \n",
    "#5,10,15 instead of 5,6,7,8,...,14,15\n",
    "for i in range(greater,a*b+1,greater):\n",
    "    if(i%a==0 and i%b==0):\n",
    "        ans = i\n",
    "        break\n",
    "print(\"LCM of a=\",a,\"and b=\",b,\"is\",ans)"
   ]
  },
  {
   "cell_type": "markdown",
   "id": "772740aa",
   "metadata": {},
   "source": [
    "## HW 3rd June,2025.\n",
    "### GCD of two numbers\n"
   ]
  },
  {
   "cell_type": "code",
   "execution_count": 2,
   "id": "c6c6a54c",
   "metadata": {},
   "outputs": [
    {
     "name": "stdout",
     "output_type": "stream",
     "text": [
      "GCD= 8\n"
     ]
    }
   ],
   "source": [
    "# HCF or GCD of two numbers using \n",
    "a=int(input(\"Enter value of a\"))\n",
    "b=int(input(\"Enter value of b\"))\n",
    "a1=a\n",
    "b1=b\n",
    "booleanVar= False\n",
    "if a==0:\n",
    "    print(\"GCD=\",b)\n",
    "    booleanVar= True\n",
    "elif b==0:\n",
    "    print(\"GCD=\",a)\n",
    "    booleanVar=True\n",
    "#Why did the code not stop after exit(0) ? -> Doubt\n",
    "   \n",
    "while b!=0 and (not booleanVar):\n",
    "    a,b=b,a%b \n",
    "#a=12 and b=24 \n",
    "''' a=24,b=12\n",
    "    a=12,b=0\n",
    "    since b==0,GCD=a=12 '''\n",
    "if not booleanVar:\n",
    "    print(\"GCD of a=\",a1,\"and b=\",b1,\"is \",a)\n"
   ]
  }
 ],
 "metadata": {
  "kernelspec": {
   "display_name": "Python 3",
   "language": "python",
   "name": "python3"
  },
  "language_info": {
   "codemirror_mode": {
    "name": "ipython",
    "version": 3
   },
   "file_extension": ".py",
   "mimetype": "text/x-python",
   "name": "python",
   "nbconvert_exporter": "python",
   "pygments_lexer": "ipython3",
   "version": "3.11.2"
  }
 },
 "nbformat": 4,
 "nbformat_minor": 5
}
