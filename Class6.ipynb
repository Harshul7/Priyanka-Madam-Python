{
 "cells": [
  {
   "cell_type": "markdown",
   "id": "997a0d9b",
   "metadata": {},
   "source": [
    "## Functions\n",
    " ### Add two numbers"
   ]
  },
  {
   "cell_type": "code",
   "execution_count": 1,
   "id": "9d4ab48e",
   "metadata": {},
   "outputs": [
    {
     "name": "stdout",
     "output_type": "stream",
     "text": [
      "3\n"
     ]
    }
   ],
   "source": [
    "a=int(input(\"Enter value of a:\"))\n",
    "b=int(input(\"Enter value of b:\"))\n",
    "\n",
    "def add(a,b):\n",
    "    return a+b \n",
    "\n",
    "sum=add(a,b)\n",
    "print(sum)\n",
    "\n"
   ]
  },
  {
   "cell_type": "markdown",
   "id": "6a6dfac8",
   "metadata": {},
   "source": [
    "## HW 04th June,2025.\n",
    "### Prepare Functions for\n",
    "- LCM\n",
    "- Armstrong\n",
    "- Prime\n",
    "- GCD"
   ]
  },
  {
   "cell_type": "markdown",
   "id": "4b963ec4",
   "metadata": {},
   "source": [
    "#### LCM Function\n"
   ]
  },
  {
   "cell_type": "code",
   "execution_count": null,
   "id": "674f8675",
   "metadata": {},
   "outputs": [
    {
     "name": "stdout",
     "output_type": "stream",
     "text": [
      "LCM of a= 2 and b= 4 is 4\n"
     ]
    }
   ],
   "source": [
    "# Function for LCM of a and b\n",
    "\n",
    "def LCM(a,b):\n",
    "    greater=max(a,b)\n",
    "    smallest=min(a,b)\n",
    "    for i in range (greater,a*b+1,greater):\n",
    "        if(i%smallest==0):\n",
    "            return i\n",
    "        \n",
    "if __name__==\"__main__\":\n",
    "    a=int(input(\"Enter value of a\"))\n",
    "    b=int(input(\"Enter value of b\"))\n",
    "    print(\"LCM of a=\",a,\"and b=\",b,\"is\",LCM(a,b))\n",
    "    \n",
    "\n",
    "       \n"
   ]
  },
  {
   "cell_type": "markdown",
   "id": "01b48019",
   "metadata": {},
   "source": [
    "#### Armstrong Number Function"
   ]
  },
  {
   "cell_type": "code",
   "execution_count": 3,
   "id": "aaee6d44",
   "metadata": {},
   "outputs": [
    {
     "name": "stdout",
     "output_type": "stream",
     "text": [
      "The given number is an Armstrong number ? True\n"
     ]
    }
   ],
   "source": [
    "# Function to check if the given number is an Armstrong number\n",
    "def is_armstrong(num):\n",
    "    num_str=str(num)\n",
    "    n=len(num_str)\n",
    "    sum=0\n",
    "    for digit in num_str:\n",
    "        sum+=int(digit)**n\n",
    "    if(sum==num):\n",
    "        return True\n",
    "    else:\n",
    "        return False\n",
    "\n",
    "if __name__==\"__main__\":\n",
    "    num=int(input(\"Enter value of num\"))\n",
    "    print(\"The given number is an Armstrong number ?\",is_armstrong(num))"
   ]
  },
  {
   "cell_type": "markdown",
   "id": "f680f6f5",
   "metadata": {},
   "source": [
    "#### Prime Number Function"
   ]
  },
  {
   "cell_type": "code",
   "execution_count": 4,
   "id": "94fb81ac",
   "metadata": {},
   "outputs": [
    {
     "name": "stdout",
     "output_type": "stream",
     "text": [
      "num= 23 is a prime number? True\n"
     ]
    }
   ],
   "source": [
    "# Function to check if the given number is a Prime number\n",
    "import math\n",
    "def prime(num):\n",
    "    for i in range(2,int(math.sqrt(num)+1)):\n",
    "        if(num%i==0):\n",
    "            return False\n",
    "    return True\n",
    "\n",
    "if __name__==\"__main__\":\n",
    "    num=int(input(\"Enter value of num:\"))\n",
    "    print(\"num=\",num,\"is a prime number?\",prime(num))\n",
    "    \n",
    "\n"
   ]
  },
  {
   "cell_type": "markdown",
   "id": "f54a1e03",
   "metadata": {},
   "source": [
    "#### GCD Function"
   ]
  },
  {
   "cell_type": "code",
   "execution_count": null,
   "id": "2db26c1f",
   "metadata": {},
   "outputs": [
    {
     "name": "stdout",
     "output_type": "stream",
     "text": [
      "GCD of a= 2 and b= 3 is 1\n"
     ]
    }
   ],
   "source": [
    "'''Subtraction based GCD Function for a and b'''\n",
    "def GCD(a,b):\n",
    "    while(a!=b):\n",
    "        if a>b:\n",
    "            a-=b\n",
    "        else:\n",
    "            b-=a\n",
    "    \n",
    "    return a \n",
    "\n",
    "if __name__==\"__main__\":\n",
    "    a=int(input(\"Enter value of a:\"))\n",
    "    b=int(input(\"Enter value of b:\"))\n",
    "\n",
    "    print(\"GCD of a=\",a,\"and b=\",b,\"is\",GCD(a,b))\n",
    "\n",
    "\n"
   ]
  }
 ],
 "metadata": {
  "kernelspec": {
   "display_name": "Python 3",
   "language": "python",
   "name": "python3"
  },
  "language_info": {
   "codemirror_mode": {
    "name": "ipython",
    "version": 3
   },
   "file_extension": ".py",
   "mimetype": "text/x-python",
   "name": "python",
   "nbconvert_exporter": "python",
   "pygments_lexer": "ipython3",
   "version": "3.11.2"
  }
 },
 "nbformat": 4,
 "nbformat_minor": 5
}
